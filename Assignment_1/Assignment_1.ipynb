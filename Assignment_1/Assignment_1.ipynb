{
 "metadata": {
  "name": "",
  "signature": "sha256:ed18ec5b81764173dd1e8982e87c3a5b1aeb8b93f25345c80a29a158cc3bd890"
 },
 "nbformat": 3,
 "nbformat_minor": 0,
 "worksheets": [
  {
   "cells": [
    {
     "cell_type": "heading",
     "level": 1,
     "metadata": {},
     "source": [
      "Kevin Medina"
     ]
    },
    {
     "cell_type": "heading",
     "level": 2,
     "metadata": {},
     "source": [
      "Semantic Web Assignment 1"
     ]
    },
    {
     "cell_type": "heading",
     "level": 4,
     "metadata": {},
     "source": [
      "Step 1: Read in csv file and create a dictionary of the organization and views"
     ]
    },
    {
     "cell_type": "code",
     "collapsed": false,
     "input": [
      "import csv\n",
      "\n",
      "#csv file path\n",
      "CSV_FILE = \"resources1\\\\datagovdatasetsviewmetrics.csv\"\n",
      "\n",
      "#empty dict\n",
      "orgs = {}\n",
      "\n",
      "#populate dict with the organization and total views\n",
      "with open(CSV_FILE) as csvfile:\n",
      "    reader = csv.DictReader(csvfile,)\n",
      "    for row in reader:\n",
      "        if orgs.has_key(row['Organization Name']) == 0:\n",
      "            orgs[row['Organization Name']] = int(row['Views per Month'] or 0)\n",
      "        else: \n",
      "            orgs[row['Organization Name']] += int(row['Views per Month']or 0) \n",
      "        "
     ],
     "language": "python",
     "metadata": {},
     "outputs": [],
     "prompt_number": 1
    },
    {
     "cell_type": "heading",
     "level": 4,
     "metadata": {},
     "source": [
      "Step 2: Print pretty table of top 10 viewed organizations"
     ]
    },
    {
     "cell_type": "code",
     "collapsed": false,
     "input": [
      "from collections import Counter\n",
      "from operator import itemgetter\n",
      "from prettytable import PrettyTable\n",
      "\n",
      "#create pretty table\n",
      "pt = PrettyTable(field_names=['Organization Name', 'Views'])\n",
      "pt.align = 'l'\n",
      "pt.padding_width = 0\n",
      "c = Counter(orgs)\n",
      "[pt.add_row([organization, views]) \n",
      " for (organization, views) in sorted(c.items(), key=itemgetter(1), reverse=True) \n",
      "     if views> 0] \n",
      "\n",
      "#print top 10\n",
      "print pt.get_string(start=0,end=10) "
     ],
     "language": "python",
     "metadata": {},
     "outputs": [
      {
       "output_type": "stream",
       "stream": "stdout",
       "text": [
        "+-----------------------------------------------------------------------+-----+\n",
        "|Organization Name                                                      |Views|\n",
        "+-----------------------------------------------------------------------+-----+\n",
        "|US Census Bureau, Department of Commerce                               |77189|\n",
        "|National Oceanic and Atmospheric Administration, Department of Commerce|72329|\n",
        "|U.S. Geological Survey, Department of the Interior                     |53093|\n",
        "|Department of Agriculture                                              |40691|\n",
        "|Department of Transportation                                           |26307|\n",
        "|Department of Defense                                                  |25523|\n",
        "|Department of Education                                                |22564|\n",
        "|Earth Data Analysis Center, University of New Mexico                   |19836|\n",
        "|General Services Administration                                        |19731|\n",
        "|National Aeronautics and Space Administration                          |16733|\n",
        "+-----------------------------------------------------------------------+-----+\n"
       ]
      }
     ],
     "prompt_number": 2
    },
    {
     "cell_type": "heading",
     "level": 5,
     "metadata": {},
     "source": [
      "Expected Output:"
     ]
    },
    {
     "cell_type": "raw",
     "metadata": {},
     "source": [
      "My output was the following:\n",
      "\n",
      "+-----------------------------------------------------------------------+-----+\n",
      "|Organization Name                                                      |Views|\n",
      "+-----------------------------------------------------------------------+-----+\n",
      "|US Census Bureau, Department of Commerce                               |77189|\n",
      "|National Oceanic and Atmospheric Administration, Department of Commerce|72329|\n",
      "|U.S. Geological Survey, Department of the Interior                     |53093|\n",
      "|Department of Agriculture                                              |40691|\n",
      "|Department of Transportation                                           |26307|\n",
      "|Department of Defense                                                  |25523|\n",
      "|Department of Education                                                |22564|\n",
      "|Earth Data Analysis Center, University of New Mexico                   |19836|\n",
      "|General Services Administration                                        |19731|\n",
      "|National Aeronautics and Space Administration                          |16733|\n",
      "+-----------------------------------------------------------------------+-----+"
     ]
    },
    {
     "cell_type": "heading",
     "level": 4,
     "metadata": {},
     "source": [
      "Step 3: Print bar graph of top 10"
     ]
    },
    {
     "cell_type": "code",
     "collapsed": false,
     "input": [
      "%matplotlib inline\n",
      "import matplotlib\n",
      "import matplotlib.pyplot as plt\n",
      "import collections\n",
      "from collections import defaultdict\n",
      "\n",
      "#import the CSV file again\n",
      "reader = csv.DictReader(open(CSV_FILE))\n",
      "orgs2 = defaultdict(int)\n",
      "for row in reader:\n",
      "    orgs2[row[\"Organization Name\"]] += int(row[\"Views per Month\"] or 0)\n",
      "\n",
      "#sort the dictionary and get the top 10\n",
      "D = sorted(orgs2.iteritems(), key=lambda (k, v): (-v, k))[:10]\n",
      "D = collections.OrderedDict(D)\n",
      "\n",
      "#plot the top 10\n",
      "plt.bar(range(len(D)), D.values(), align='center')\n",
      "plt.xticks(range(len(D)), D.keys(), rotation='horizontal')\n",
      "\n",
      "plt.show()"
     ],
     "language": "python",
     "metadata": {},
     "outputs": [
      {
       "metadata": {},
       "output_type": "display_data",
       "png": "[encoded data removed]",
       "text": [
        "<matplotlib.figure.Figure at 0xcc7bf98>"
       ]
      }
     ],
     "prompt_number": 6
    },
    {
     "cell_type": "heading",
     "level": 5,
     "metadata": {},
     "source": [
      "Expected Output"
     ]
    },
    {
     "cell_type": "markdown",
     "metadata": {},
     "source": [
      "The output is a bar graph displaying the top 10 most viewed organizations shown in the pretty table printed on in step 2."
     ]
    },
    {
     "cell_type": "code",
     "collapsed": false,
     "input": [],
     "language": "python",
     "metadata": {},
     "outputs": []
    }
   ],
   "metadata": {}
  }
 ]
}
